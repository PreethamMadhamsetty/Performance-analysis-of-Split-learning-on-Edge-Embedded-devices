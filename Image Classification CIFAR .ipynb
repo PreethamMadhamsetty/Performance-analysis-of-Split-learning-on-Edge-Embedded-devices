{
 "cells": [
  {
   "cell_type": "code",
   "execution_count": null,
   "id": "524bcae4",
   "metadata": {},
   "outputs": [],
   "source": [
    "from keras.datasets import cifar10\n",
    "# loading the dataset \n",
    "(X_train, y_train), (X_test, y_test) = cifar10.load_data()"
   ]
  },
  {
   "cell_type": "markdown",
   "id": "7904a06f",
   "metadata": {},
   "source": [
    "# 3 CONVOLUTIONAL LAYERS"
   ]
  },
  {
   "cell_type": "code",
   "execution_count": 5,
   "id": "fc56ee6b",
   "metadata": {},
   "outputs": [
    {
     "name": "stdout",
     "output_type": "stream",
     "text": [
      "Shape before one-hot encoding:  (50000, 1)\n",
      "Shape after one-hot encoding:  (50000, 10)\n",
      "Epoch 1/10\n",
      "391/391 [==============================] - 181s 458ms/step - loss: 1.5981 - accuracy: 0.4144 - val_loss: 1.1874 - val_accuracy: 0.5675\n",
      "Epoch 2/10\n",
      "391/391 [==============================] - 178s 455ms/step - loss: 1.1176 - accuracy: 0.6044 - val_loss: 0.9498 - val_accuracy: 0.6670\n",
      "Epoch 3/10\n",
      "391/391 [==============================] - 174s 445ms/step - loss: 0.9492 - accuracy: 0.6669 - val_loss: 0.8146 - val_accuracy: 0.7134\n",
      "Epoch 4/10\n",
      "391/391 [==============================] - 175s 448ms/step - loss: 0.8313 - accuracy: 0.7074 - val_loss: 0.7800 - val_accuracy: 0.7293\n",
      "Epoch 5/10\n",
      "391/391 [==============================] - 211s 540ms/step - loss: 0.7463 - accuracy: 0.7388 - val_loss: 0.7165 - val_accuracy: 0.7488\n",
      "Epoch 6/10\n",
      "391/391 [==============================] - 273s 699ms/step - loss: 0.6862 - accuracy: 0.7593 - val_loss: 0.7010 - val_accuracy: 0.7544\n",
      "Epoch 7/10\n",
      "391/391 [==============================] - 240s 615ms/step - loss: 0.6335 - accuracy: 0.7765 - val_loss: 0.6784 - val_accuracy: 0.7651\n",
      "Epoch 8/10\n",
      "391/391 [==============================] - 264s 674ms/step - loss: 0.5789 - accuracy: 0.7968 - val_loss: 0.6762 - val_accuracy: 0.7669\n",
      "Epoch 9/10\n",
      "391/391 [==============================] - 244s 625ms/step - loss: 0.5386 - accuracy: 0.8098 - val_loss: 0.6800 - val_accuracy: 0.7647\n",
      "Epoch 10/10\n",
      "391/391 [==============================] - 2879s 7s/step - loss: 0.4919 - accuracy: 0.8280 - val_loss: 0.6852 - val_accuracy: 0.7701\n"
     ]
    },
    {
     "data": {
      "text/plain": [
       "<keras.src.callbacks.History at 0x13708d1d850>"
      ]
     },
     "execution_count": 5,
     "metadata": {},
     "output_type": "execute_result"
    }
   ],
   "source": [
    "# keras imports for the dataset and building our neural network\n",
    "from keras.datasets import cifar10\n",
    "from keras.models import Sequential\n",
    "from keras.layers import Dense, Dropout, Conv2D, MaxPool2D, Flatten\n",
    "#from keras.utils import np_utils\n",
    "from tensorflow.keras.utils import to_categorical\n",
    "\n",
    "# loading the dataset\n",
    "(X_train, y_train), (X_test, y_test) = cifar10.load_data()\n",
    "\n",
    "# # building the input vector from the 32x32 pixels\n",
    "X_train = X_train.reshape(X_train.shape[0], 32, 32, 3)\n",
    "X_test = X_test.reshape(X_test.shape[0], 32, 32, 3)\n",
    "X_train = X_train.astype('float32')\n",
    "X_test = X_test.astype('float32')\n",
    "\n",
    "# normalizing the data to help with the training\n",
    "X_train /= 255\n",
    "X_test /= 255\n",
    "\n",
    "# one-hot encoding using keras' numpy-related utilities\n",
    "n_classes = 10\n",
    "print(\"Shape before one-hot encoding: \", y_train.shape)\n",
    "#Y_train = np_utils.to_categorical(y_train, n_classes)\n",
    "#Y_test = np_utils.to_categorical(y_test, n_classes)\n",
    "# from keras.utils import np_utils\n",
    "Y_train = to_categorical(y_train, n_classes)\n",
    "Y_test = to_categorical(y_test, n_classes)\n",
    "\n",
    "print(\"Shape after one-hot encoding: \", Y_train.shape)\n",
    "\n",
    "# building a linear stack of layers with the sequential model\n",
    "model = Sequential()\n",
    "\n",
    "# convolutional layer\n",
    "model.add(Conv2D(50, kernel_size=(3,3), strides=(1,1), padding='same', activation='relu', input_shape=(32, 32, 3)))\n",
    "\n",
    "# convolutional layer\n",
    "model.add(Conv2D(75, kernel_size=(3,3), strides=(1,1), padding='same', activation='relu'))\n",
    "model.add(MaxPool2D(pool_size=(2,2)))\n",
    "model.add(Dropout(0.25))\n",
    "\n",
    "model.add(Conv2D(125, kernel_size=(3,3), strides=(1,1), padding='same', activation='relu'))\n",
    "model.add(MaxPool2D(pool_size=(2,2)))\n",
    "model.add(Dropout(0.25))\n",
    "\n",
    "# flatten output of conv\n",
    "model.add(Flatten())\n",
    "\n",
    "# hidden layer\n",
    "model.add(Dense(500, activation='relu'))\n",
    "model.add(Dropout(0.4))\n",
    "model.add(Dense(250, activation='relu'))\n",
    "model.add(Dropout(0.3))\n",
    "# output layer\n",
    "model.add(Dense(10, activation='softmax'))\n",
    "\n",
    "# compiling the sequential model\n",
    "model.compile(loss='categorical_crossentropy', metrics=['accuracy'], optimizer='adam')\n",
    "\n",
    "# training the model for 10 epochs\n",
    "model.fit(X_train, Y_train, batch_size=128, epochs=10, validation_data=(X_test, Y_test))\n"
   ]
  },
  {
   "cell_type": "markdown",
   "id": "0ab4bcdc",
   "metadata": {},
   "source": [
    "# 2 CONVOLUTIONAL LAYERS"
   ]
  },
  {
   "cell_type": "code",
   "execution_count": 6,
   "id": "c872be92",
   "metadata": {},
   "outputs": [
    {
     "name": "stdout",
     "output_type": "stream",
     "text": [
      "Shape before one-hot encoding:  (50000, 1)\n",
      "Shape after one-hot encoding:  (50000, 10)\n",
      "Epoch 1/10\n",
      "391/391 [==============================] - 287s 652ms/step - loss: 1.4930 - accuracy: 0.4581 - val_loss: 1.1422 - val_accuracy: 0.5870\n",
      "Epoch 2/10\n",
      "391/391 [==============================] - 247s 633ms/step - loss: 1.0597 - accuracy: 0.6261 - val_loss: 0.9219 - val_accuracy: 0.6751\n",
      "Epoch 3/10\n",
      "391/391 [==============================] - 248s 635ms/step - loss: 0.8877 - accuracy: 0.6889 - val_loss: 0.9000 - val_accuracy: 0.6862\n",
      "Epoch 4/10\n",
      "391/391 [==============================] - 237s 605ms/step - loss: 0.7607 - accuracy: 0.7329 - val_loss: 0.8382 - val_accuracy: 0.7085\n",
      "Epoch 5/10\n",
      "391/391 [==============================] - 257s 657ms/step - loss: 0.6562 - accuracy: 0.7721 - val_loss: 0.8280 - val_accuracy: 0.7164\n",
      "Epoch 6/10\n",
      "391/391 [==============================] - 239s 611ms/step - loss: 0.5531 - accuracy: 0.8062 - val_loss: 0.8329 - val_accuracy: 0.7236\n",
      "Epoch 7/10\n",
      "391/391 [==============================] - 237s 607ms/step - loss: 0.4745 - accuracy: 0.8334 - val_loss: 0.8526 - val_accuracy: 0.7228\n",
      "Epoch 8/10\n",
      "391/391 [==============================] - 216s 552ms/step - loss: 0.4131 - accuracy: 0.8559 - val_loss: 0.8659 - val_accuracy: 0.7248\n",
      "Epoch 9/10\n",
      "391/391 [==============================] - 210s 537ms/step - loss: 0.3499 - accuracy: 0.8783 - val_loss: 0.9234 - val_accuracy: 0.7251\n",
      "Epoch 10/10\n",
      "391/391 [==============================] - 227s 580ms/step - loss: 0.3046 - accuracy: 0.8938 - val_loss: 0.9171 - val_accuracy: 0.7273\n"
     ]
    },
    {
     "data": {
      "text/plain": [
       "<keras.src.callbacks.History at 0x1377ea8f350>"
      ]
     },
     "execution_count": 6,
     "metadata": {},
     "output_type": "execute_result"
    }
   ],
   "source": [
    "# keras imports for the dataset and building our neural network\n",
    "from keras.datasets import cifar10\n",
    "from keras.models import Sequential\n",
    "from keras.layers import Dense, Dropout, Conv2D, MaxPool2D, Flatten\n",
    "#from keras.utils import np_utils\n",
    "from tensorflow.keras.utils import to_categorical\n",
    "\n",
    "# loading the dataset\n",
    "(X_train, y_train), (X_test, y_test) = cifar10.load_data()\n",
    "\n",
    "# # building the input vector from the 32x32 pixels\n",
    "X_train = X_train.reshape(X_train.shape[0], 32, 32, 3)\n",
    "X_test = X_test.reshape(X_test.shape[0], 32, 32, 3)\n",
    "X_train = X_train.astype('float32')\n",
    "X_test = X_test.astype('float32')\n",
    "\n",
    "# normalizing the data to help with the training\n",
    "X_train /= 255\n",
    "X_test /= 255\n",
    "\n",
    "# one-hot encoding using keras' numpy-related utilities\n",
    "n_classes = 10\n",
    "print(\"Shape before one-hot encoding: \", y_train.shape)\n",
    "#Y_train = np_utils.to_categorical(y_train, n_classes)\n",
    "#Y_test = np_utils.to_categorical(y_test, n_classes)\n",
    "# from keras.utils import np_utils\n",
    "Y_train = to_categorical(y_train, n_classes)\n",
    "Y_test = to_categorical(y_test, n_classes)\n",
    "\n",
    "print(\"Shape after one-hot encoding: \", Y_train.shape)\n",
    "\n",
    "# building a linear stack of layers with the sequential model\n",
    "model = Sequential()\n",
    "\n",
    "# convolutional layer\n",
    "model.add(Conv2D(50, kernel_size=(3,3), strides=(1,1), padding='same', activation='relu', input_shape=(32, 32, 3)))\n",
    "\n",
    "# convolutional layer\n",
    "model.add(Conv2D(75, kernel_size=(3,3), strides=(1,1), padding='same', activation='relu'))\n",
    "model.add(MaxPool2D(pool_size=(2,2)))\n",
    "model.add(Dropout(0.25))\n",
    "\n",
    "\n",
    "# flatten output of conv\n",
    "model.add(Flatten())\n",
    "\n",
    "# hidden layer\n",
    "model.add(Dense(500, activation='relu'))\n",
    "model.add(Dropout(0.4))\n",
    "model.add(Dense(250, activation='relu'))\n",
    "model.add(Dropout(0.3))\n",
    "# output layer\n",
    "model.add(Dense(10, activation='softmax'))\n",
    "\n",
    "# compiling the sequential model\n",
    "model.compile(loss='categorical_crossentropy', metrics=['accuracy'], optimizer='adam')\n",
    "\n",
    "# training the model for 10 epochs\n",
    "model.fit(X_train, Y_train, batch_size=128, epochs=10, validation_data=(X_test, Y_test))\n"
   ]
  },
  {
   "cell_type": "markdown",
   "id": "cf16246c",
   "metadata": {},
   "source": [
    "# 1 CONVOLUTIONAL LAYER"
   ]
  },
  {
   "cell_type": "code",
   "execution_count": 1,
   "id": "85b150e7",
   "metadata": {},
   "outputs": [
    {
     "name": "stdout",
     "output_type": "stream",
     "text": [
      "Shape before one-hot encoding:  (50000, 1)\n",
      "Shape after one-hot encoding:  (50000, 10)\n",
      "Epoch 1/10\n",
      "391/391 [==============================] - 141s 355ms/step - loss: 1.9178 - accuracy: 0.3091 - val_loss: 1.4637 - val_accuracy: 0.4731\n",
      "Epoch 2/10\n",
      "391/391 [==============================] - 138s 354ms/step - loss: 1.4683 - accuracy: 0.4678 - val_loss: 1.2943 - val_accuracy: 0.5441\n",
      "Epoch 3/10\n",
      "391/391 [==============================] - 135s 344ms/step - loss: 1.3353 - accuracy: 0.5222 - val_loss: 1.2361 - val_accuracy: 0.5572\n",
      "Epoch 4/10\n",
      "391/391 [==============================] - 131s 335ms/step - loss: 1.2241 - accuracy: 0.5610 - val_loss: 1.1564 - val_accuracy: 0.5861\n",
      "Epoch 5/10\n",
      "391/391 [==============================] - 131s 335ms/step - loss: 1.1327 - accuracy: 0.5941 - val_loss: 1.1245 - val_accuracy: 0.6002\n",
      "Epoch 6/10\n",
      "391/391 [==============================] - 130s 333ms/step - loss: 1.0576 - accuracy: 0.6182 - val_loss: 1.0775 - val_accuracy: 0.6147\n",
      "Epoch 7/10\n",
      "391/391 [==============================] - 129s 331ms/step - loss: 0.9889 - accuracy: 0.6456 - val_loss: 1.0924 - val_accuracy: 0.6118\n",
      "Epoch 8/10\n",
      "391/391 [==============================] - 139s 355ms/step - loss: 0.9204 - accuracy: 0.6662 - val_loss: 1.0881 - val_accuracy: 0.6216\n",
      "Epoch 9/10\n",
      "391/391 [==============================] - 130s 333ms/step - loss: 0.8719 - accuracy: 0.6859 - val_loss: 1.0789 - val_accuracy: 0.6206\n",
      "Epoch 10/10\n",
      "391/391 [==============================] - 130s 333ms/step - loss: 0.8117 - accuracy: 0.7085 - val_loss: 1.0897 - val_accuracy: 0.6271\n"
     ]
    },
    {
     "data": {
      "text/plain": [
       "<keras.src.callbacks.History at 0x1ab7a7f7250>"
      ]
     },
     "execution_count": 1,
     "metadata": {},
     "output_type": "execute_result"
    }
   ],
   "source": [
    "# keras imports for the dataset and building our neural network\n",
    "from keras.datasets import cifar10\n",
    "from keras.models import Sequential\n",
    "from keras.layers import Dense, Dropout, Conv2D, MaxPool2D, Flatten\n",
    "#from keras.utils import np_utils\n",
    "from tensorflow.keras.utils import to_categorical\n",
    "\n",
    "# loading the dataset\n",
    "(X_train, y_train), (X_test, y_test) = cifar10.load_data()\n",
    "\n",
    "# # building the input vector from the 32x32 pixels\n",
    "X_train = X_train.reshape(X_train.shape[0], 32, 32, 3)\n",
    "X_test = X_test.reshape(X_test.shape[0], 32, 32, 3)\n",
    "X_train = X_train.astype('float32')\n",
    "X_test = X_test.astype('float32')\n",
    "\n",
    "# normalizing the data to help with the training\n",
    "X_train /= 255\n",
    "X_test /= 255\n",
    "\n",
    "# one-hot encoding using keras' numpy-related utilities\n",
    "n_classes = 10\n",
    "print(\"Shape before one-hot encoding: \", y_train.shape)\n",
    "#Y_train = np_utils.to_categorical(y_train, n_classes)\n",
    "#Y_test = np_utils.to_categorical(y_test, n_classes)\n",
    "# from keras.utils import np_utils\n",
    "Y_train = to_categorical(y_train, n_classes)\n",
    "Y_test = to_categorical(y_test, n_classes)\n",
    "\n",
    "print(\"Shape after one-hot encoding: \", Y_train.shape)\n",
    "\n",
    "# building a linear stack of layers with the sequential model\n",
    "model = Sequential()\n",
    "\n",
    "# convolutional layer\n",
    "model.add(Conv2D(50, kernel_size=(3,3), strides=(1,1), padding='same', activation='relu', input_shape=(32, 32, 3)))\n",
    "\n",
    "\n",
    "# flatten output of conv\n",
    "model.add(Flatten())\n",
    "\n",
    "# hidden layer\n",
    "model.add(Dense(500, activation='relu'))\n",
    "model.add(Dropout(0.4))\n",
    "model.add(Dense(250, activation='relu'))\n",
    "model.add(Dropout(0.3))\n",
    "# output layer\n",
    "model.add(Dense(10, activation='softmax'))\n",
    "\n",
    "# compiling the sequential model\n",
    "model.compile(loss='categorical_crossentropy', metrics=['accuracy'], optimizer='adam')\n",
    "\n",
    "# training the model for 10 epochs\n",
    "model.fit(X_train, Y_train, batch_size=128, epochs=10, validation_data=(X_test, Y_test))\n"
   ]
  },
  {
   "cell_type": "code",
   "execution_count": null,
   "id": "4c456d64",
   "metadata": {},
   "outputs": [],
   "source": []
  }
 ],
 "metadata": {
  "kernelspec": {
   "display_name": "Python 3 (ipykernel)",
   "language": "python",
   "name": "python3"
  },
  "language_info": {
   "codemirror_mode": {
    "name": "ipython",
    "version": 3
   },
   "file_extension": ".py",
   "mimetype": "text/x-python",
   "name": "python",
   "nbconvert_exporter": "python",
   "pygments_lexer": "ipython3",
   "version": "3.11.5"
  }
 },
 "nbformat": 4,
 "nbformat_minor": 5
}
