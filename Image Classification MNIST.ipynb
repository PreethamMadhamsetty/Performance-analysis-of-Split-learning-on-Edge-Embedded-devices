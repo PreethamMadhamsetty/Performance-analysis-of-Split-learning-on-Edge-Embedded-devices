{
 "cells": [
  {
   "cell_type": "code",
   "execution_count": 19,
   "id": "1c381a6f",
   "metadata": {},
   "outputs": [],
   "source": [
    "#!pip install keras"
   ]
  },
  {
   "cell_type": "code",
   "execution_count": 20,
   "id": "a045c962",
   "metadata": {},
   "outputs": [],
   "source": [
    "#!pip install TensorFlow"
   ]
  },
  {
   "cell_type": "code",
   "execution_count": 21,
   "id": "0dd1e866",
   "metadata": {},
   "outputs": [],
   "source": [
    "#pip install keras-utils"
   ]
  },
  {
   "cell_type": "code",
   "execution_count": 22,
   "id": "9e50aa83",
   "metadata": {},
   "outputs": [],
   "source": [
    "#pip install np_utils"
   ]
  },
  {
   "cell_type": "markdown",
   "id": "97f40c98",
   "metadata": {},
   "source": [
    "# IMPORTING THE DATASET"
   ]
  },
  {
   "cell_type": "code",
   "execution_count": 23,
   "id": "d9cde81d",
   "metadata": {},
   "outputs": [
    {
     "name": "stdout",
     "output_type": "stream",
     "text": [
      "X_train shape: (60000, 28, 28)\n",
      "y_train shape: (60000,)\n",
      "X_test shape: (10000, 28, 28)\n",
      "y_test shape: (10000,)\n"
     ]
    }
   ],
   "source": [
    "from keras.datasets import mnist\n",
    "\n",
    "# loading the dataset\n",
    "(X_train, y_train), (X_test, y_test) = mnist.load_data()\n",
    "# let's print the shape of the dataset\n",
    "print(\"X_train shape:\", X_train.shape)\n",
    "print(\"y_train shape:\", y_train.shape)\n",
    "print(\"X_test shape:\", X_test.shape)\n",
    "print(\"y_test shape:\", y_test.shape)\n",
    "X_train.shape: (60000, 28, 28)\n",
    "y_train.shape: (60000,)\n",
    "X_test.shape: (10000, 28, 28)\n",
    "y_test.shape: (10000,)"
   ]
  },
  {
   "cell_type": "code",
   "execution_count": 24,
   "id": "b8b1f128",
   "metadata": {},
   "outputs": [
    {
     "name": "stdout",
     "output_type": "stream",
     "text": [
      "Shape before one-hot encoding:  (60000,)\n",
      "Shape after one-hot encoding:  (60000, 10)\n",
      "Model: \"sequential_4\"\n",
      "_________________________________________________________________\n",
      " Layer (type)                Output Shape              Param #   \n",
      "=================================================================\n",
      " dense_8 (Dense)             (None, 100)               78500     \n",
      "                                                                 \n",
      " dense_9 (Dense)             (None, 10)                1010      \n",
      "                                                                 \n",
      "=================================================================\n",
      "Total params: 79510 (310.59 KB)\n",
      "Trainable params: 79510 (310.59 KB)\n",
      "Non-trainable params: 0 (0.00 Byte)\n",
      "_________________________________________________________________\n",
      "Epoch 1/10\n",
      "469/469 [==============================] - 3s 5ms/step - loss: 0.3684 - accuracy: 0.8994 - val_loss: 0.1960 - val_accuracy: 0.9432\n",
      "Epoch 2/10\n",
      "469/469 [==============================] - 2s 4ms/step - loss: 0.1751 - accuracy: 0.9499 - val_loss: 0.1486 - val_accuracy: 0.9580\n",
      "Epoch 3/10\n",
      "469/469 [==============================] - 2s 4ms/step - loss: 0.1290 - accuracy: 0.9629 - val_loss: 0.1151 - val_accuracy: 0.9668\n",
      "Epoch 4/10\n",
      "469/469 [==============================] - 2s 4ms/step - loss: 0.1027 - accuracy: 0.9710 - val_loss: 0.1022 - val_accuracy: 0.9696\n",
      "Epoch 5/10\n",
      "469/469 [==============================] - 2s 4ms/step - loss: 0.0842 - accuracy: 0.9756 - val_loss: 0.0975 - val_accuracy: 0.9711\n",
      "Epoch 6/10\n",
      "469/469 [==============================] - 2s 4ms/step - loss: 0.0704 - accuracy: 0.9799 - val_loss: 0.0852 - val_accuracy: 0.9749\n",
      "Epoch 7/10\n",
      "469/469 [==============================] - 2s 4ms/step - loss: 0.0599 - accuracy: 0.9828 - val_loss: 0.0823 - val_accuracy: 0.9763\n",
      "Epoch 8/10\n",
      "469/469 [==============================] - 2s 4ms/step - loss: 0.0514 - accuracy: 0.9854 - val_loss: 0.0774 - val_accuracy: 0.9766\n",
      "Epoch 9/10\n",
      "469/469 [==============================] - 2s 4ms/step - loss: 0.0440 - accuracy: 0.9877 - val_loss: 0.0778 - val_accuracy: 0.9765\n",
      "Epoch 10/10\n",
      "469/469 [==============================] - 2s 4ms/step - loss: 0.0388 - accuracy: 0.9892 - val_loss: 0.0774 - val_accuracy: 0.9758\n"
     ]
    },
    {
     "data": {
      "text/plain": [
       "<keras.src.callbacks.History at 0x27aad6e41d0>"
      ]
     },
     "execution_count": 24,
     "metadata": {},
     "output_type": "execute_result"
    }
   ],
   "source": [
    "# keras imports for the dataset and building our neural network\n",
    "from keras.datasets import mnist\n",
    "from keras.models import Sequential\n",
    "from keras.layers import Dense, Dropout, Conv2D, MaxPool2D\n",
    "import keras_utils\n",
    "#from keras.utils import np_utils\n",
    "from tensorflow.keras.utils import to_categorical\n",
    "\n",
    "\n",
    "\n",
    "# Flattening the images from the 28x28 pixels to 1D 787 pixels\n",
    "X_train = X_train.reshape(60000, 784)\n",
    "X_test = X_test.reshape(10000, 784)\n",
    "X_train = X_train.astype('float32')\n",
    "X_test = X_test.astype('float32')\n",
    "\n",
    "# normalizing the data to help with the training\n",
    "X_train /= 255\n",
    "X_test /= 255\n",
    "\n",
    "# one-hot encoding using keras' numpy-related utilities\n",
    "n_classes = 10\n",
    "print(\"Shape before one-hot encoding: \", y_train.shape)\n",
    "#Y_train = np_utils.to_categorical(y_train, n_classes)\n",
    "#Y_test = np_utils.to_categorical(y_test, n_classes)\n",
    "# from keras.utils import np_utils\n",
    "Y_train = to_categorical(y_train, n_classes)\n",
    "Y_test = to_categorical(y_test, n_classes)\n",
    "\n",
    "print(\"Shape after one-hot encoding: \", Y_train.shape)\n",
    "\n",
    "# building a linear stack of layers with the sequential model\n",
    "model = Sequential()\n",
    "# hidden layer\n",
    "model.add(Dense(100, input_shape=(784,), activation='relu'))\n",
    "# output layer\n",
    "model.add(Dense(10, activation='softmax'))\n",
    "\n",
    "# looking at the model summary\n",
    "model.summary()\n",
    "# compiling the sequential model\n",
    "model.compile(loss='categorical_crossentropy', metrics=['accuracy'], optimizer='adam')\n",
    "# training the model for 10 epochs\n",
    "model.fit(X_train, Y_train, batch_size=128, epochs=10, validation_data=(X_test, Y_test))"
   ]
  },
  {
   "cell_type": "markdown",
   "id": "1e4ba9b8",
   "metadata": {},
   "source": [
    "# 1 CONVOLUTIONAL LAYER"
   ]
  },
  {
   "cell_type": "code",
   "execution_count": 25,
   "id": "ce8f098a",
   "metadata": {},
   "outputs": [
    {
     "name": "stdout",
     "output_type": "stream",
     "text": [
      "Shape before one-hot encoding:  (60000,)\n",
      "Shape after one-hot encoding:  (60000, 10)\n",
      "Epoch 1/10\n",
      "469/469 [==============================] - 25s 52ms/step - loss: 0.2101 - accuracy: 0.9381 - val_loss: 0.0793 - val_accuracy: 0.9761\n",
      "Epoch 2/10\n",
      "469/469 [==============================] - 23s 50ms/step - loss: 0.0626 - accuracy: 0.9812 - val_loss: 0.0582 - val_accuracy: 0.9817\n",
      "Epoch 3/10\n",
      "469/469 [==============================] - 23s 50ms/step - loss: 0.0377 - accuracy: 0.9890 - val_loss: 0.0550 - val_accuracy: 0.9812\n",
      "Epoch 4/10\n",
      "469/469 [==============================] - 23s 49ms/step - loss: 0.0244 - accuracy: 0.9928 - val_loss: 0.0542 - val_accuracy: 0.9830\n",
      "Epoch 5/10\n",
      "469/469 [==============================] - 23s 49ms/step - loss: 0.0163 - accuracy: 0.9953 - val_loss: 0.0559 - val_accuracy: 0.9824\n",
      "Epoch 6/10\n",
      "469/469 [==============================] - 23s 50ms/step - loss: 0.0106 - accuracy: 0.9972 - val_loss: 0.0545 - val_accuracy: 0.9831\n",
      "Epoch 7/10\n",
      "469/469 [==============================] - 24s 51ms/step - loss: 0.0073 - accuracy: 0.9979 - val_loss: 0.0549 - val_accuracy: 0.9839\n",
      "Epoch 8/10\n",
      "469/469 [==============================] - 23s 49ms/step - loss: 0.0065 - accuracy: 0.9982 - val_loss: 0.0608 - val_accuracy: 0.9827\n",
      "Epoch 9/10\n",
      "469/469 [==============================] - 23s 50ms/step - loss: 0.0045 - accuracy: 0.9988 - val_loss: 0.0595 - val_accuracy: 0.9842\n",
      "Epoch 10/10\n",
      "469/469 [==============================] - 23s 50ms/step - loss: 0.0041 - accuracy: 0.9988 - val_loss: 0.0632 - val_accuracy: 0.9838\n"
     ]
    },
    {
     "data": {
      "text/plain": [
       "<keras.src.callbacks.History at 0x27aad564210>"
      ]
     },
     "execution_count": 25,
     "metadata": {},
     "output_type": "execute_result"
    }
   ],
   "source": [
    "# keras imports for the dataset and building our neural network\n",
    "from keras.datasets import mnist\n",
    "from keras.models import Sequential\n",
    "from keras.layers import Dense, Dropout, Conv2D, MaxPool2D, Flatten\n",
    "#from keras.utils import np_utils\n",
    "# ... (other imports)\n",
    "from tensorflow.keras.utils import to_categorical\n",
    "\n",
    "# to calculate accuracy\n",
    "from sklearn.metrics import accuracy_score\n",
    "\n",
    "# loading the dataset\n",
    "(X_train, y_train), (X_test, y_test) = mnist.load_data()\n",
    "\n",
    "# building the input vector from the 28x28 pixels\n",
    "X_train = X_train.reshape(X_train.shape[0], 28, 28, 1)\n",
    "X_test = X_test.reshape(X_test.shape[0], 28, 28, 1)\n",
    "X_train = X_train.astype('float32')\n",
    "X_test = X_test.astype('float32')\n",
    "\n",
    "# normalizing the data to help with the training\n",
    "X_train /= 255\n",
    "X_test /= 255\n",
    "\n",
    "# one-hot encoding using keras' numpy-related utilities\n",
    "n_classes = 10\n",
    "print(\"Shape before one-hot encoding: \", y_train.shape)\n",
    "#Y_train = np_utils.to_categorical(y_train, n_classes)\n",
    "#Y_test = np_utils.to_categorical(y_test, n_classes)\n",
    "Y_train = to_categorical(y_train, n_classes)\n",
    "Y_test = to_categorical(y_test, n_classes)\n",
    "\n",
    "print(\"Shape after one-hot encoding: \", Y_train.shape)\n",
    "\n",
    "# building a linear stack of layers with the sequential model\n",
    "model = Sequential()\n",
    "# convolutional layer\n",
    "model.add(Conv2D(25, kernel_size=(3,3), strides=(1,1), padding='valid', activation='relu', input_shape=(28,28,1)))\n",
    "model.add(MaxPool2D(pool_size=(1,1)))\n",
    "# flatten output of conv\n",
    "model.add(Flatten())\n",
    "# hidden layer\n",
    "model.add(Dense(100, activation='relu'))\n",
    "# output layer\n",
    "model.add(Dense(10, activation='softmax'))\n",
    "\n",
    "# compiling the sequential model\n",
    "model.compile(loss='categorical_crossentropy', metrics=['accuracy'], optimizer='adam')\n",
    "\n",
    "# training the model for 10 epochs\n",
    "model.fit(X_train, Y_train, batch_size=128, epochs=10, validation_data=(X_test, Y_test))\n"
   ]
  },
  {
   "cell_type": "markdown",
   "id": "3724863c",
   "metadata": {},
   "source": [
    "# 2 CONVOLUTIONAL LAYERS"
   ]
  },
  {
   "cell_type": "code",
   "execution_count": 26,
   "id": "5efcdaa2",
   "metadata": {},
   "outputs": [
    {
     "name": "stdout",
     "output_type": "stream",
     "text": [
      "Shape before one-hot encoding:  (60000,)\n",
      "Shape after one-hot encoding:  (60000, 10)\n",
      "Epoch 1/10\n",
      "469/469 [==============================] - 72s 150ms/step - loss: 0.1515 - accuracy: 0.9548 - val_loss: 0.0491 - val_accuracy: 0.9857\n",
      "Epoch 2/10\n",
      "469/469 [==============================] - 69s 147ms/step - loss: 0.0402 - accuracy: 0.9875 - val_loss: 0.0400 - val_accuracy: 0.9871\n",
      "Epoch 3/10\n",
      "469/469 [==============================] - 73s 156ms/step - loss: 0.0246 - accuracy: 0.9926 - val_loss: 0.0394 - val_accuracy: 0.9858\n",
      "Epoch 4/10\n",
      "469/469 [==============================] - 72s 152ms/step - loss: 0.0148 - accuracy: 0.9953 - val_loss: 0.0324 - val_accuracy: 0.9894\n",
      "Epoch 5/10\n",
      "469/469 [==============================] - 71s 152ms/step - loss: 0.0108 - accuracy: 0.9965 - val_loss: 0.0400 - val_accuracy: 0.9886\n",
      "Epoch 6/10\n",
      "469/469 [==============================] - 71s 151ms/step - loss: 0.0078 - accuracy: 0.9976 - val_loss: 0.0403 - val_accuracy: 0.9897\n",
      "Epoch 7/10\n",
      "469/469 [==============================] - 72s 154ms/step - loss: 0.0058 - accuracy: 0.9980 - val_loss: 0.0417 - val_accuracy: 0.9884\n",
      "Epoch 8/10\n",
      "469/469 [==============================] - 71s 150ms/step - loss: 0.0081 - accuracy: 0.9970 - val_loss: 0.0521 - val_accuracy: 0.9875\n",
      "Epoch 9/10\n",
      "469/469 [==============================] - 72s 153ms/step - loss: 0.0036 - accuracy: 0.9990 - val_loss: 0.0492 - val_accuracy: 0.9892\n",
      "Epoch 10/10\n",
      "469/469 [==============================] - 69s 148ms/step - loss: 0.0046 - accuracy: 0.9983 - val_loss: 0.0491 - val_accuracy: 0.9884\n"
     ]
    },
    {
     "data": {
      "text/plain": [
       "<keras.src.callbacks.History at 0x27ab0a91f10>"
      ]
     },
     "execution_count": 26,
     "metadata": {},
     "output_type": "execute_result"
    }
   ],
   "source": [
    "# keras imports for the dataset and building our neural network\n",
    "from keras.datasets import mnist\n",
    "from keras.models import Sequential\n",
    "from keras.layers import Dense, Dropout, Conv2D, MaxPool2D, Flatten\n",
    "#from keras.utils import np_utils\n",
    "# ... (other imports)\n",
    "from tensorflow.keras.utils import to_categorical\n",
    "\n",
    "# to calculate accuracy\n",
    "from sklearn.metrics import accuracy_score\n",
    "\n",
    "# loading the dataset\n",
    "(X_train, y_train), (X_test, y_test) = mnist.load_data()\n",
    "\n",
    "# building the input vector from the 28x28 pixels\n",
    "X_train = X_train.reshape(X_train.shape[0], 28, 28, 1)\n",
    "X_test = X_test.reshape(X_test.shape[0], 28, 28, 1)\n",
    "X_train = X_train.astype('float32')\n",
    "X_test = X_test.astype('float32')\n",
    "\n",
    "# normalizing the data to help with the training\n",
    "X_train /= 255\n",
    "X_test /= 255\n",
    "\n",
    "# one-hot encoding using keras' numpy-related utilities\n",
    "n_classes = 10\n",
    "print(\"Shape before one-hot encoding: \", y_train.shape)\n",
    "#Y_train = np_utils.to_categorical(y_train, n_classes)\n",
    "#Y_test = np_utils.to_categorical(y_test, n_classes)\n",
    "Y_train = to_categorical(y_train, n_classes)\n",
    "Y_test = to_categorical(y_test, n_classes)\n",
    "\n",
    "print(\"Shape after one-hot encoding: \", Y_train.shape)\n",
    "\n",
    "# building a linear stack of layers with the sequential model\n",
    "model = Sequential()\n",
    "# convolutional layer\n",
    "model.add(Conv2D(25, kernel_size=(3,3), strides=(1,1), padding='valid', activation='relu', input_shape=(28,28,1)))\n",
    "model.add(MaxPool2D(pool_size=(1,1)))\n",
    "# 2 convolutional layer\n",
    "model.add(Conv2D(50, kernel_size=(3,3), strides=(1,1), padding='valid', activation='relu', input_shape=(28,28,1)))\n",
    "model.add(MaxPool2D(pool_size=(1,1)))\n",
    "# flatten output of conv\n",
    "model.add(Flatten())\n",
    "# hidden layer\n",
    "model.add(Dense(100, activation='relu'))\n",
    "# output layer\n",
    "model.add(Dense(10, activation='softmax'))\n",
    "\n",
    "# compiling the sequential model\n",
    "model.compile(loss='categorical_crossentropy', metrics=['accuracy'], optimizer='adam')\n",
    "\n",
    "# training the model for 10 epochs\n",
    "model.fit(X_train, Y_train, batch_size=128, epochs=10, validation_data=(X_test, Y_test))\n"
   ]
  },
  {
   "cell_type": "markdown",
   "id": "9c82a8ac",
   "metadata": {},
   "source": [
    "# 3 CONVOLUTIONAL LAYERS"
   ]
  },
  {
   "cell_type": "code",
   "execution_count": 27,
   "id": "06a170fe",
   "metadata": {},
   "outputs": [
    {
     "name": "stdout",
     "output_type": "stream",
     "text": [
      "Shape before one-hot encoding:  (60000,)\n",
      "Shape after one-hot encoding:  (60000, 10)\n",
      "Epoch 1/10\n",
      "469/469 [==============================] - 134314s 287s/step - loss: 0.1324 - accuracy: 0.9596 - val_loss: 0.0428 - val_accuracy: 0.9862\n",
      "Epoch 2/10\n",
      "469/469 [==============================] - 158s 338ms/step - loss: 0.0368 - accuracy: 0.9889 - val_loss: 0.0397 - val_accuracy: 0.9873\n",
      "Epoch 3/10\n",
      "469/469 [==============================] - 159s 338ms/step - loss: 0.0241 - accuracy: 0.9918 - val_loss: 0.0365 - val_accuracy: 0.9872\n",
      "Epoch 4/10\n",
      "469/469 [==============================] - 150s 320ms/step - loss: 0.0151 - accuracy: 0.9951 - val_loss: 0.0383 - val_accuracy: 0.9892\n",
      "Epoch 5/10\n",
      "469/469 [==============================] - 149s 318ms/step - loss: 0.0113 - accuracy: 0.9962 - val_loss: 0.0349 - val_accuracy: 0.9904\n",
      "Epoch 6/10\n",
      "469/469 [==============================] - 575s 1s/step - loss: 0.0104 - accuracy: 0.9967 - val_loss: 0.0358 - val_accuracy: 0.9906\n",
      "Epoch 7/10\n",
      "469/469 [==============================] - 146s 312ms/step - loss: 0.0078 - accuracy: 0.9973 - val_loss: 0.0347 - val_accuracy: 0.9897\n",
      "Epoch 8/10\n",
      "469/469 [==============================] - 138s 295ms/step - loss: 0.0045 - accuracy: 0.9985 - val_loss: 0.0390 - val_accuracy: 0.9903\n",
      "Epoch 9/10\n",
      "469/469 [==============================] - 135s 289ms/step - loss: 0.0038 - accuracy: 0.9987 - val_loss: 0.0427 - val_accuracy: 0.9910\n",
      "Epoch 10/10\n",
      "469/469 [==============================] - 145s 310ms/step - loss: 0.0063 - accuracy: 0.9980 - val_loss: 0.0524 - val_accuracy: 0.9893\n"
     ]
    },
    {
     "data": {
      "text/plain": [
       "<keras.src.callbacks.History at 0x27ab704d950>"
      ]
     },
     "execution_count": 27,
     "metadata": {},
     "output_type": "execute_result"
    }
   ],
   "source": [
    "# keras imports for the dataset and building our neural network\n",
    "from keras.datasets import mnist\n",
    "from keras.models import Sequential\n",
    "from keras.layers import Dense, Dropout, Conv2D, MaxPool2D, Flatten\n",
    "#from keras.utils import np_utils\n",
    "# ... (other imports)\n",
    "from tensorflow.keras.utils import to_categorical\n",
    "\n",
    "# to calculate accuracy\n",
    "from sklearn.metrics import accuracy_score\n",
    "\n",
    "# loading the dataset\n",
    "(X_train, y_train), (X_test, y_test) = mnist.load_data()\n",
    "\n",
    "# building the input vector from the 28x28 pixels\n",
    "X_train = X_train.reshape(X_train.shape[0], 28, 28, 1)\n",
    "X_test = X_test.reshape(X_test.shape[0], 28, 28, 1)\n",
    "X_train = X_train.astype('float32')\n",
    "X_test = X_test.astype('float32')\n",
    "\n",
    "# normalizing the data to help with the training\n",
    "X_train /= 255\n",
    "X_test /= 255\n",
    "\n",
    "# one-hot encoding using keras' numpy-related utilities\n",
    "n_classes = 10\n",
    "print(\"Shape before one-hot encoding: \", y_train.shape)\n",
    "#Y_train = np_utils.to_categorical(y_train, n_classes)\n",
    "#Y_test = np_utils.to_categorical(y_test, n_classes)\n",
    "Y_train = to_categorical(y_train, n_classes)\n",
    "Y_test = to_categorical(y_test, n_classes)\n",
    "\n",
    "print(\"Shape after one-hot encoding: \", Y_train.shape)\n",
    "\n",
    "# building a linear stack of layers with the sequential model\n",
    "model = Sequential()\n",
    "# convolutional layer\n",
    "model.add(Conv2D(25, kernel_size=(3,3), strides=(1,1), padding='valid', activation='relu', input_shape=(28,28,1)))\n",
    "model.add(MaxPool2D(pool_size=(1,1)))\n",
    "# 2 convolutional layer\n",
    "model.add(Conv2D(50, kernel_size=(3,3), strides=(1,1), padding='valid', activation='relu', input_shape=(28,28,1)))\n",
    "model.add(MaxPool2D(pool_size=(1,1)))\n",
    "# 3 convolutional layer\n",
    "model.add(Conv2D(75, kernel_size=(3,3), strides=(1,1), padding='valid', activation='relu', input_shape=(28,28,1)))\n",
    "model.add(MaxPool2D(pool_size=(1,1)))\n",
    "# flatten output of conv\n",
    "model.add(Flatten())\n",
    "# hidden layer\n",
    "model.add(Dense(100, activation='relu'))\n",
    "# output layer\n",
    "model.add(Dense(10, activation='softmax'))\n",
    "\n",
    "# compiling the sequential model\n",
    "model.compile(loss='categorical_crossentropy', metrics=['accuracy'], optimizer='adam')\n",
    "\n",
    "# training the model for 10 epochs\n",
    "model.fit(X_train, Y_train, batch_size=128, epochs=10, validation_data=(X_test, Y_test))\n"
   ]
  },
  {
   "cell_type": "code",
   "execution_count": null,
   "id": "a9b0f8cb",
   "metadata": {},
   "outputs": [],
   "source": []
  }
 ],
 "metadata": {
  "kernelspec": {
   "display_name": "Python 3 (ipykernel)",
   "language": "python",
   "name": "python3"
  },
  "language_info": {
   "codemirror_mode": {
    "name": "ipython",
    "version": 3
   },
   "file_extension": ".py",
   "mimetype": "text/x-python",
   "name": "python",
   "nbconvert_exporter": "python",
   "pygments_lexer": "ipython3",
   "version": "3.11.5"
  }
 },
 "nbformat": 4,
 "nbformat_minor": 5
}
