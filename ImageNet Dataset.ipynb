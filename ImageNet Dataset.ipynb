{
 "cells": [
  {
   "cell_type": "code",
   "execution_count": 3,
   "id": "37d717e5",
   "metadata": {},
   "outputs": [],
   "source": [
    "import urllib.request\n",
    "import tarfile\n",
    "\n",
    "url = \"https://s3.amazonaws.com/fast-ai-imageclas/imagenette2.tgz\"\n",
    "filename = \"imagenette2.tgz\"\n",
    "\n",
    "# Download the file\n",
    "urllib.request.urlretrieve(url, filename)\n",
    "\n",
    "# Extract the file\n",
    "with tarfile.open(filename, 'r:gz') as tar:\n",
    "    tar.extractall()\n"
   ]
  },
  {
   "cell_type": "code",
   "execution_count": 4,
   "id": "67dd47e3",
   "metadata": {},
   "outputs": [],
   "source": [
    "imagenette_map = { \n",
    "    \"n01440764\" : \"tench\",\n",
    "    \"n02102040\" : \"springer\",\n",
    "    \"n02979186\" : \"casette_player\",\n",
    "    \"n03000684\" : \"chain_saw\",\n",
    "    \"n03028079\" : \"church\",\n",
    "    \"n03394916\" : \"French_horn\",\n",
    "    \"n03417042\" : \"garbage_truck\",\n",
    "    \"n03425413\" : \"gas_pump\",\n",
    "    \"n03445777\" : \"golf_ball\",\n",
    "    \"n03888257\" : \"parachute\"\n",
    "}"
   ]
  },
  {
   "cell_type": "code",
   "execution_count": 5,
   "id": "38bb1601",
   "metadata": {},
   "outputs": [
    {
     "name": "stdout",
     "output_type": "stream",
     "text": [
      "Found 9469 images belonging to 10 classes.\n",
      "Found 3925 images belonging to 10 classes.\n"
     ]
    }
   ],
   "source": [
    "from keras.preprocessing.image import ImageDataGenerator\n",
    "\n",
    "# create a new generator\n",
    "imagegen = ImageDataGenerator()\n",
    "# load train data\n",
    "train = imagegen.flow_from_directory(\"imagenette2/train/\", class_mode=\"categorical\", shuffle=False, batch_size=128, target_size=(224, 224))\n",
    "# load val data\n",
    "val = imagegen.flow_from_directory(\"imagenette2/val/\", class_mode=\"categorical\", shuffle=False, batch_size=128, target_size=(224, 224))"
   ]
  },
  {
   "cell_type": "markdown",
   "id": "8605074c",
   "metadata": {},
   "source": [
    "# 3 Convolutional Layers"
   ]
  },
  {
   "cell_type": "code",
   "execution_count": 6,
   "id": "3e448d9a",
   "metadata": {},
   "outputs": [
    {
     "name": "stderr",
     "output_type": "stream",
     "text": [
      "C:\\Users\\Preetham Madhamsetty\\AppData\\Local\\Temp\\ipykernel_3576\\1001115447.py:30: UserWarning: `Model.fit_generator` is deprecated and will be removed in a future version. Please use `Model.fit`, which supports generators.\n",
      "  model.fit_generator(train, epochs=30, validation_data=val)\n"
     ]
    },
    {
     "name": "stdout",
     "output_type": "stream",
     "text": [
      "Epoch 1/30\n",
      "74/74 [==============================] - 567s 7s/step - loss: 2.6036 - accuracy: 0.1117 - val_loss: 2.6706 - val_accuracy: 0.1534\n",
      "Epoch 2/30\n",
      "74/74 [==============================] - 253s 3s/step - loss: 2.1511 - accuracy: 0.2425 - val_loss: 2.1676 - val_accuracy: 0.2408\n",
      "Epoch 3/30\n",
      "74/74 [==============================] - 259s 3s/step - loss: 1.8790 - accuracy: 0.3555 - val_loss: 2.5754 - val_accuracy: 0.2680\n",
      "Epoch 4/30\n",
      "74/74 [==============================] - 252s 3s/step - loss: 1.6455 - accuracy: 0.4503 - val_loss: 2.0310 - val_accuracy: 0.3284\n",
      "Epoch 5/30\n",
      "74/74 [==============================] - 386s 5s/step - loss: 1.3952 - accuracy: 0.5341 - val_loss: 2.0664 - val_accuracy: 0.3702\n",
      "Epoch 6/30\n",
      "74/74 [==============================] - 543s 7s/step - loss: 1.2240 - accuracy: 0.5938 - val_loss: 2.0069 - val_accuracy: 0.3521\n",
      "Epoch 7/30\n",
      "74/74 [==============================] - 250s 3s/step - loss: 0.9711 - accuracy: 0.6829 - val_loss: 1.9242 - val_accuracy: 0.3964\n",
      "Epoch 8/30\n",
      "74/74 [==============================] - 229s 3s/step - loss: 0.8048 - accuracy: 0.7313 - val_loss: 2.3254 - val_accuracy: 0.3811\n",
      "Epoch 9/30\n",
      "74/74 [==============================] - 229s 3s/step - loss: 0.6331 - accuracy: 0.7906 - val_loss: 2.0436 - val_accuracy: 0.4020\n",
      "Epoch 10/30\n",
      "74/74 [==============================] - 243s 3s/step - loss: 0.5060 - accuracy: 0.8376 - val_loss: 2.1105 - val_accuracy: 0.4082\n",
      "Epoch 11/30\n",
      "74/74 [==============================] - 233s 3s/step - loss: 0.3889 - accuracy: 0.8728 - val_loss: 2.1872 - val_accuracy: 0.4194\n",
      "Epoch 12/30\n",
      "74/74 [==============================] - 245s 3s/step - loss: 0.2890 - accuracy: 0.9091 - val_loss: 2.5510 - val_accuracy: 0.4125\n",
      "Epoch 13/30\n",
      "74/74 [==============================] - 239s 3s/step - loss: 0.3150 - accuracy: 0.8947 - val_loss: 2.9520 - val_accuracy: 0.3952\n",
      "Epoch 14/30\n",
      "74/74 [==============================] - 241s 3s/step - loss: 0.1603 - accuracy: 0.9540 - val_loss: 2.2648 - val_accuracy: 0.4377\n",
      "Epoch 15/30\n",
      "74/74 [==============================] - 229s 3s/step - loss: 0.1156 - accuracy: 0.9651 - val_loss: 2.1749 - val_accuracy: 0.4525\n",
      "Epoch 16/30\n",
      "74/74 [==============================] - 243s 3s/step - loss: 0.0617 - accuracy: 0.9848 - val_loss: 2.5967 - val_accuracy: 0.4413\n",
      "Epoch 17/30\n",
      "74/74 [==============================] - 226s 3s/step - loss: 0.0388 - accuracy: 0.9926 - val_loss: 2.7204 - val_accuracy: 0.4217\n",
      "Epoch 18/30\n",
      "74/74 [==============================] - 228s 3s/step - loss: 0.0290 - accuracy: 0.9945 - val_loss: 2.6498 - val_accuracy: 0.4425\n",
      "Epoch 19/30\n",
      "74/74 [==============================] - 231s 3s/step - loss: 0.0208 - accuracy: 0.9964 - val_loss: 2.9201 - val_accuracy: 0.4377\n",
      "Epoch 20/30\n",
      "74/74 [==============================] - 231s 3s/step - loss: 0.0227 - accuracy: 0.9951 - val_loss: 2.7077 - val_accuracy: 0.4512\n",
      "Epoch 21/30\n",
      "74/74 [==============================] - 231s 3s/step - loss: 0.0167 - accuracy: 0.9967 - val_loss: 3.0165 - val_accuracy: 0.4290\n",
      "Epoch 22/30\n",
      "74/74 [==============================] - 232s 3s/step - loss: 0.0138 - accuracy: 0.9975 - val_loss: 2.9545 - val_accuracy: 0.4359\n",
      "Epoch 23/30\n",
      "74/74 [==============================] - 230s 3s/step - loss: 0.0168 - accuracy: 0.9964 - val_loss: 3.3915 - val_accuracy: 0.4051\n",
      "Epoch 24/30\n",
      "74/74 [==============================] - 245s 3s/step - loss: 0.2001 - accuracy: 0.9531 - val_loss: 4.2185 - val_accuracy: 0.3254\n",
      "Epoch 25/30\n",
      "74/74 [==============================] - 6504s 89s/step - loss: 0.8259 - accuracy: 0.7529 - val_loss: 3.1197 - val_accuracy: 0.4051\n",
      "Epoch 26/30\n",
      "74/74 [==============================] - 241s 3s/step - loss: 0.1648 - accuracy: 0.9484 - val_loss: 2.7752 - val_accuracy: 0.4173\n",
      "Epoch 27/30\n",
      "74/74 [==============================] - 239s 3s/step - loss: 0.0458 - accuracy: 0.9904 - val_loss: 2.6023 - val_accuracy: 0.4599\n",
      "Epoch 28/30\n",
      "74/74 [==============================] - 237s 3s/step - loss: 0.0328 - accuracy: 0.9930 - val_loss: 2.9524 - val_accuracy: 0.4400\n",
      "Epoch 29/30\n",
      "74/74 [==============================] - 234s 3s/step - loss: 0.0156 - accuracy: 0.9980 - val_loss: 2.7470 - val_accuracy: 0.4642\n",
      "Epoch 30/30\n",
      "74/74 [==============================] - 236s 3s/step - loss: 0.0099 - accuracy: 0.9987 - val_loss: 2.8742 - val_accuracy: 0.4632\n"
     ]
    },
    {
     "data": {
      "text/plain": [
       "<keras.src.callbacks.History at 0x177bbadf690>"
      ]
     },
     "execution_count": 6,
     "metadata": {},
     "output_type": "execute_result"
    }
   ],
   "source": [
    "from keras.models import Sequential\n",
    "from keras.layers import Conv2D, MaxPool2D, Flatten, Dense, InputLayer, BatchNormalization, Dropout\n",
    "\n",
    "# build a sequential model\n",
    "model = Sequential()\n",
    "model.add(InputLayer(input_shape=(224, 224, 3)))\n",
    "\n",
    "# 1st conv block\n",
    "model.add(Conv2D(25, (5, 5), activation='relu', strides=(1, 1), padding='same'))\n",
    "model.add(MaxPool2D(pool_size=(2, 2), padding='same'))\n",
    "# 2nd conv block\n",
    "model.add(Conv2D(50, (5, 5), activation='relu', strides=(2, 2), padding='same'))\n",
    "model.add(MaxPool2D(pool_size=(2, 2), padding='same'))\n",
    "model.add(BatchNormalization())\n",
    "# 3rd conv block\n",
    "model.add(Conv2D(70, (3, 3), activation='relu', strides=(2, 2), padding='same'))\n",
    "model.add(MaxPool2D(pool_size=(2, 2), padding='valid'))\n",
    "model.add(BatchNormalization())\n",
    "# ANN block\n",
    "model.add(Flatten())\n",
    "model.add(Dense(units=100, activation='relu'))\n",
    "model.add(Dense(units=100, activation='relu'))\n",
    "model.add(Dropout(0.25))\n",
    "# output layer\n",
    "model.add(Dense(units=10, activation='softmax'))\n",
    "\n",
    "# compile model\n",
    "model.compile(loss='categorical_crossentropy', optimizer=\"adam\", metrics=['accuracy'])\n",
    "# fit on data for 30 epochs\n",
    "model.fit_generator(train, epochs=30, validation_data=val)"
   ]
  },
  {
   "cell_type": "markdown",
   "id": "f7026f26",
   "metadata": {},
   "source": [
    "# 2 CONVOLUTIONAL LAYERS"
   ]
  },
  {
   "cell_type": "code",
   "execution_count": 7,
   "id": "ff541347",
   "metadata": {},
   "outputs": [
    {
     "name": "stderr",
     "output_type": "stream",
     "text": [
      "C:\\Users\\Preetham Madhamsetty\\AppData\\Local\\Temp\\ipykernel_3576\\3375337823.py:27: UserWarning: `Model.fit_generator` is deprecated and will be removed in a future version. Please use `Model.fit`, which supports generators.\n",
      "  model.fit_generator(train, epochs=10, validation_data=val)\n"
     ]
    },
    {
     "name": "stdout",
     "output_type": "stream",
     "text": [
      "Epoch 1/10\n",
      "74/74 [==============================] - 565s 7s/step - loss: 2.9120 - accuracy: 0.1286 - val_loss: 14.7261 - val_accuracy: 0.0950\n",
      "Epoch 2/10\n",
      "74/74 [==============================] - 522s 7s/step - loss: 2.2939 - accuracy: 0.1649 - val_loss: 5.1371 - val_accuracy: 0.1116\n",
      "Epoch 3/10\n",
      "74/74 [==============================] - 3206s 44s/step - loss: 2.2057 - accuracy: 0.2159 - val_loss: 10.5661 - val_accuracy: 0.1419\n",
      "Epoch 4/10\n",
      "74/74 [==============================] - 576s 8s/step - loss: 2.1182 - accuracy: 0.2699 - val_loss: 2.2123 - val_accuracy: 0.2693\n",
      "Epoch 5/10\n",
      "74/74 [==============================] - 585s 8s/step - loss: 1.8291 - accuracy: 0.3708 - val_loss: 2.2938 - val_accuracy: 0.2555\n",
      "Epoch 6/10\n",
      "74/74 [==============================] - 534s 7s/step - loss: 1.6773 - accuracy: 0.4310 - val_loss: 2.5407 - val_accuracy: 0.2904\n",
      "Epoch 7/10\n",
      "74/74 [==============================] - 4539s 62s/step - loss: 1.4155 - accuracy: 0.5341 - val_loss: 2.0936 - val_accuracy: 0.3391\n",
      "Epoch 8/10\n",
      "74/74 [==============================] - 617s 8s/step - loss: 1.2202 - accuracy: 0.5921 - val_loss: 5.1692 - val_accuracy: 0.2010\n",
      "Epoch 9/10\n",
      "74/74 [==============================] - 561s 8s/step - loss: 0.9003 - accuracy: 0.7047 - val_loss: 2.1358 - val_accuracy: 0.3868\n",
      "Epoch 10/10\n",
      "74/74 [==============================] - 553s 7s/step - loss: 0.6913 - accuracy: 0.7847 - val_loss: 2.3753 - val_accuracy: 0.3704\n"
     ]
    },
    {
     "data": {
      "text/plain": [
       "<keras.src.callbacks.History at 0x177bee7e3d0>"
      ]
     },
     "execution_count": 7,
     "metadata": {},
     "output_type": "execute_result"
    }
   ],
   "source": [
    "from keras.models import Sequential\n",
    "from keras.layers import Conv2D, MaxPool2D, Flatten, Dense, InputLayer, BatchNormalization, Dropout\n",
    "\n",
    "# build a sequential model\n",
    "model = Sequential()\n",
    "model.add(InputLayer(input_shape=(224, 224, 3)))\n",
    "\n",
    "# 1st conv block\n",
    "model.add(Conv2D(25, (5, 5), activation='relu', strides=(1, 1), padding='same'))\n",
    "model.add(MaxPool2D(pool_size=(2, 2), padding='same'))\n",
    "# 2nd conv block\n",
    "model.add(Conv2D(50, (5, 5), activation='relu', strides=(2, 2), padding='same'))\n",
    "model.add(MaxPool2D(pool_size=(2, 2), padding='same'))\n",
    "model.add(BatchNormalization())\n",
    "\n",
    "# ANN block\n",
    "model.add(Flatten())\n",
    "model.add(Dense(units=100, activation='relu'))\n",
    "model.add(Dense(units=100, activation='relu'))\n",
    "model.add(Dropout(0.25))\n",
    "# output layer\n",
    "model.add(Dense(units=10, activation='softmax'))\n",
    "\n",
    "# compile model\n",
    "model.compile(loss='categorical_crossentropy', optimizer=\"adam\", metrics=['accuracy'])\n",
    "# fit on data for 30 epochs\n",
    "model.fit_generator(train, epochs=10, validation_data=val)"
   ]
  },
  {
   "cell_type": "code",
   "execution_count": null,
   "id": "d77cd15e",
   "metadata": {},
   "outputs": [],
   "source": []
  }
 ],
 "metadata": {
  "kernelspec": {
   "display_name": "Python 3 (ipykernel)",
   "language": "python",
   "name": "python3"
  },
  "language_info": {
   "codemirror_mode": {
    "name": "ipython",
    "version": 3
   },
   "file_extension": ".py",
   "mimetype": "text/x-python",
   "name": "python",
   "nbconvert_exporter": "python",
   "pygments_lexer": "ipython3",
   "version": "3.11.5"
  }
 },
 "nbformat": 4,
 "nbformat_minor": 5
}
